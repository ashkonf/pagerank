{
  "cells": [
    {
      "cell_type": "markdown",
      "metadata": {},
      "source": [
        "# PageRank and TextRank Demo\n",
        "\n",
        "This notebook demonstrates the usage of both the PageRank algorithm and TextRank for keyword extraction."
      ]
    },
    {
      "cell_type": "markdown",
      "metadata": {},
      "source": [
        "## Setup and Imports"
      ]
    },
    {
      "cell_type": "code",
      "execution_count": null,
      "metadata": {},
      "outputs": [],
      "source": [
        "import sys\n",
        "import os\n",
        "\n",
        "# Add the project root to the path\n",
        "sys.path.append('.')\n",
        "\n",
        "import pagerank\n",
        "from textrank import textrank, apply_text_rank\n",
        "import pandas as pd\n",
        "import matplotlib.pyplot as plt\n",
        "import seaborn as sns\n",
        "\n",
        "# Set up plotting style\n",
        "plt.style.use('default')\n",
        "sns.set_palette(\"husl\")\n",
        "\n",
        "print(\"Setup complete!\")"
      ]
    },
    {
      "cell_type": "markdown",
      "metadata": {},
      "source": [
        "## 1. Basic PageRank Examples\n",
        "\n",
        "Let's start with some simple graph examples to understand how PageRank works."
      ]
    },
    {
      "cell_type": "code",
      "execution_count": null,
      "metadata": {},
      "outputs": [],
      "source": [
        "# Define a simple triangle graph\n",
        "triangle_graph = {\n",
        "    \"A\": {\"B\": 1, \"C\": 1},\n",
        "    \"B\": {\"C\": 1},\n",
        "    \"C\": {\"A\": 1},\n",
        "}\n",
        "\n",
        "# Calculate PageRank scores\n",
        "triangle_scores = pagerank.power_iteration(triangle_graph)\n",
        "print(\"Triangle Graph PageRank Scores:\")\n",
        "print(triangle_scores)\n",
        "print(f\"\\nSum of scores: {triangle_scores.sum():.6f}\")"
      ]
    },
    {
      "cell_type": "markdown",
      "metadata": {},
      "source": [
        "## 2. TextRank for Keyword Extraction\n",
        "\n",
        "Now let's explore TextRank, which applies PageRank to extract keywords from text documents."
      ]
    },
    {
      "cell_type": "code",
      "execution_count": null,
      "metadata": {},
      "outputs": [],
      "source": [
        "# Simple text example\n",
        "simple_text = \"\"\"\n",
        "Natural language processing is a subfield of linguistics, computer science, \n",
        "and artificial intelligence concerned with the interactions between computers \n",
        "and human language. In particular, how to program computers to process and \n",
        "analyze large amounts of natural language data.\n",
        "\"\"\"\n",
        "\n",
        "# Extract keywords\n",
        "simple_keywords = textrank(simple_text)\n",
        "print(\"Top 10 Keywords from Simple Text:\")\n",
        "print(simple_keywords.head(10))"
      ]
    },
    {
      "cell_type": "markdown",
      "metadata": {},
      "source": [
        "## 3. Visualizing Results\n",
        "\n",
        "Let's create some visualizations to better understand the results."
      ]
    },
    {
      "cell_type": "code",
      "execution_count": null,
      "metadata": {},
      "outputs": [],
      "source": [
        "# Visualize keyword scores\n",
        "fig, ax = plt.subplots(figsize=(12, 6))\n",
        "\n",
        "# Get top 10 keywords from the simple text\n",
        "top_keywords = simple_keywords.head(10)\n",
        "\n",
        "# Create horizontal bar plot\n",
        "top_keywords.plot(kind='barh', ax=ax, color='lightgreen')\n",
        "ax.set_title('Top 10 Keywords - TextRank Scores', fontsize=14, fontweight='bold')\n",
        "ax.set_xlabel('TextRank Score', fontsize=12)\n",
        "ax.set_ylabel('Keywords', fontsize=12)\n",
        "\n",
        "# Improve layout\n",
        "plt.tight_layout()\n",
        "plt.show()"
      ]
    },
    {
      "cell_type": "markdown",
      "metadata": {},
      "source": [
        "## Conclusion\n",
        "\n",
        "This notebook demonstrated:\n",
        "\n",
        "1. **Basic PageRank Usage**: How to apply PageRank to simple graphs\n",
        "2. **TextRank for Keywords**: Extracting significant keywords from text documents\n",
        "3. **Visualizations**: Various ways to visualize and compare results\n",
        "\n",
        "The PageRank and TextRank implementations are robust, well-tested, and ready for production use."
      ]
    }
  ],
  "metadata": {
    "kernelspec": {
      "display_name": "Python 3",
      "language": "python",
      "name": "python3"
    },
    "language_info": {
      "codemirror_mode": {
        "name": "ipython",
        "version": 3
      },
      "file_extension": ".py",
      "mimetype": "text/x-python",
      "name": "python",
      "nbconvert_exporter": "python",
      "pygments_lexer": "ipython3",
      "version": "3.8.0"
    }
  },
  "nbformat": 4,
  "nbformat_minor": 4
}