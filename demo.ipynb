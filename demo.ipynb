{
 "cells": [
  {
   "cell_type": "markdown",
   "metadata": {},
   "source": [
    "# PageRank and TextRank Demo\n",
    "\n",
    "This notebook demonstrates the usage of both the PageRank algorithm and TextRank for keyword extraction."
   ]
  },
  {
   "cell_type": "markdown",
   "metadata": {},
   "source": [
    "## Setup and Imports"
   ]
  },
  {
   "cell_type": "code",
   "execution_count": null,
   "metadata": {},
   "outputs": [
    {
     "name": "stdout",
     "output_type": "stream",
     "text": [
      "Setup complete!\n"
     ]
    },
    {
     "name": "stderr",
     "output_type": "stream",
     "text": [
      "[nltk_data] Downloading package punkt_tab to\n",
      "[nltk_data]     /Users/ashkonfarhangi/nltk_data...\n",
      "[nltk_data]   Package punkt_tab is already up-to-date!\n",
      "[nltk_data] Downloading package averaged_perceptron_tagger_eng to\n",
      "[nltk_data]     /Users/ashkonfarhangi/nltk_data...\n",
      "[nltk_data]   Unzipping taggers/averaged_perceptron_tagger_eng.zip.\n"
     ]
    }
   ],
   "source": [
    "import matplotlib.pyplot as plt\n",
    "import nltk\n",
    "import seaborn as sns\n",
    "\n",
    "from src import pagerank\n",
    "from textrank import textrank\n",
    "\n",
    "# Set up plotting style\n",
    "plt.style.use(\"default\")\n",
    "sns.set_palette(\"husl\")\n",
    "\n",
    "\n",
    "nltk.download(\"punkt_tab\")\n",
    "nltk.download(\"averaged_perceptron_tagger_eng\")\n",
    "\n",
    "print(\"Setup complete!\")"
   ]
  },
  {
   "cell_type": "markdown",
   "metadata": {},
   "source": [
    "## 1. Basic PageRank Examples\n",
    "\n",
    "Let's start with some simple graph examples to understand how PageRank works."
   ]
  },
  {
   "cell_type": "code",
   "execution_count": 5,
   "metadata": {},
   "outputs": [
    {
     "name": "stdout",
     "output_type": "stream",
     "text": [
      "Triangle Graph PageRank Scores:\n",
      "A    0.397397\n",
      "B    0.214812\n",
      "C    0.387792\n",
      "dtype: float64\n",
      "\n",
      "Sum of scores: 1.000000\n"
     ]
    }
   ],
   "source": [
    "# Define a simple triangle graph\n",
    "triangle_graph = {\n",
    "    \"A\": {\"B\": 1, \"C\": 1},\n",
    "    \"B\": {\"C\": 1},\n",
    "    \"C\": {\"A\": 1},\n",
    "}\n",
    "\n",
    "# Calculate PageRank scores\n",
    "triangle_scores = pagerank.power_iteration(triangle_graph)\n",
    "print(\"Triangle Graph PageRank Scores:\")\n",
    "print(triangle_scores)\n",
    "print(f\"\\nSum of scores: {triangle_scores.sum():.6f}\")"
   ]
  },
  {
   "cell_type": "markdown",
   "metadata": {},
   "source": [
    "## 2. TextRank for Keyword Extraction\n",
    "\n",
    "Now let's explore TextRank, which applies PageRank to extract keywords from text documents."
   ]
  },
  {
   "cell_type": "code",
   "execution_count": null,
   "metadata": {},
   "outputs": [
    {
     "name": "stdout",
     "output_type": "stream",
     "text": [
      "Top 10 Keywords from Simple Text:\n",
      "language        0.248659\n",
      "processing      0.105897\n",
      "subfield        0.135662\n",
      "computer        0.137500\n",
      "science         0.134546\n",
      "intelligence    0.134818\n",
      "program         0.102919\n",
      "dtype: float64\n"
     ]
    }
   ],
   "source": [
    "# Simple text example\n",
    "simple_text = \"\"\"\n",
    "Natural language processing is a subfield of linguistics, computer science,\n",
    "and artificial intelligence concerned with the interactions between computers\n",
    "and human language. In particular, how to program computers to process and\n",
    "analyze large amounts of natural language data.\n",
    "\"\"\"\n",
    "\n",
    "# Extract keywords\n",
    "simple_keywords = textrank(simple_text)\n",
    "print(\"Top 10 Keywords from Simple Text:\")\n",
    "print(simple_keywords.head(10))"
   ]
  },
  {
   "cell_type": "markdown",
   "metadata": {},
   "source": [
    "## 3. Visualizing Results\n",
    "\n",
    "Let's create some visualizations to better understand the results."
   ]
  },
  {
   "cell_type": "code",
   "execution_count": 7,
   "metadata": {},
   "outputs": [
    {
     "data": {
      "image/png": "[encoded data removed]",
      "text/plain": [
       "<Figure size 1200x600 with 1 Axes>"
      ]
     },
     "metadata": {},
     "output_type": "display_data"
    }
   ],
   "source": [
    "# Visualize keyword scores\n",
    "fig, ax = plt.subplots(figsize=(12, 6))\n",
    "\n",
    "# Get top 10 keywords from the simple text\n",
    "top_keywords = simple_keywords.head(10)\n",
    "\n",
    "# Create horizontal bar plot\n",
    "top_keywords.plot(kind=\"barh\", ax=ax, color=\"lightgreen\")\n",
    "ax.set_title(\"Top 10 Keywords - TextRank Scores\", fontsize=14, fontweight=\"bold\")\n",
    "ax.set_xlabel(\"TextRank Score\", fontsize=12)\n",
    "ax.set_ylabel(\"Keywords\", fontsize=12)\n",
    "\n",
    "# Improve layout\n",
    "plt.tight_layout()\n",
    "plt.show()"
   ]
  },
  {
   "cell_type": "markdown",
   "metadata": {},
   "source": [
    "## Conclusion\n",
    "\n",
    "This notebook demonstrated:\n",
    "\n",
    "1. **Basic PageRank Usage**: How to apply PageRank to simple graphs\n",
    "2. **TextRank for Keywords**: Extracting significant keywords from text documents\n",
    "3. **Visualizations**: Various ways to visualize and compare results\n",
    "\n",
    "The PageRank and TextRank implementations are robust, well-tested, and ready for production use."
   ]
  }
 ],
 "metadata": {
  "kernelspec": {
   "display_name": ".venv",
   "language": "python",
   "name": "python3"
  },
  "language_info": {
   "codemirror_mode": {
    "name": "ipython",
    "version": 3
   },
   "file_extension": ".py",
   "mimetype": "text/x-python",
   "name": "python",
   "nbconvert_exporter": "python",
   "pygments_lexer": "ipython3",
   "version": "3.13.5"
  }
 },
 "nbformat": 4,
 "nbformat_minor": 4
}
